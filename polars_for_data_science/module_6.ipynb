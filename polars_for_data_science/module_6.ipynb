{
 "cells": [
  {
   "cell_type": "code",
   "execution_count": 2,
   "id": "1e85faf3",
   "metadata": {},
   "outputs": [],
   "source": [
    "import polars as pl"
   ]
  },
  {
   "cell_type": "code",
   "execution_count": 7,
   "id": "614a4198",
   "metadata": {},
   "outputs": [],
   "source": [
    "column_rename_mapping = {\n",
    "    \"VendorID\": \"vendor_id\",\n",
    "    \"RatecodeID\": \"rate_code_id\",\n",
    "    \"PULocationID\": \"pickup_location_id\",\n",
    "    \"DOLocationID\": \"dropoff_location_id\",\n",
    "    \"Airport_fee\": \"airport_fee\",\n",
    "}\n",
    "march_yellow_df = pl.read_parquet(\"./../data/yellow_tripdata_2024-03.parquet\").rename(\n",
    "    column_rename_mapping\n",
    ")"
   ]
  },
  {
   "cell_type": "markdown",
   "id": "8c02fd39",
   "metadata": {},
   "source": [
    "## Joining Dataframes"
   ]
  },
  {
   "cell_type": "code",
   "execution_count": 8,
   "id": "720733f0",
   "metadata": {},
   "outputs": [
    {
     "data": {
      "text/html": [
       "<div><style>\n",
       ".dataframe > thead > tr,\n",
       ".dataframe > tbody > tr {\n",
       "  text-align: right;\n",
       "  white-space: pre-wrap;\n",
       "}\n",
       "</style>\n",
       "<small>shape: (5, 5)</small><table border=\"1\" class=\"dataframe\"><thead><tr><th>pickup_location_id</th><th>count_trips</th><th>trip_distance_min</th><th>trip_distance_mean</th><th>trip_distance_max</th></tr><tr><td>i32</td><td>u32</td><td>f64</td><td>f64</td><td>f64</td></tr></thead><tbody><tr><td>25</td><td>1933</td><td>0.0</td><td>4.523895</td><td>63.16</td></tr><tr><td>87</td><td>19155</td><td>0.0</td><td>4.239439</td><td>833.2</td></tr><tr><td>69</td><td>548</td><td>0.0</td><td>5.367555</td><td>28.3</td></tr><tr><td>188</td><td>1190</td><td>0.0</td><td>5.240647</td><td>32.2</td></tr><tr><td>10</td><td>1304</td><td>0.0</td><td>10.631028</td><td>55.21</td></tr></tbody></table></div>"
      ],
      "text/plain": [
       "shape: (5, 5)\n",
       "┌────────────────────┬─────────────┬───────────────────┬────────────────────┬───────────────────┐\n",
       "│ pickup_location_id ┆ count_trips ┆ trip_distance_min ┆ trip_distance_mean ┆ trip_distance_max │\n",
       "│ ---                ┆ ---         ┆ ---               ┆ ---                ┆ ---               │\n",
       "│ i32                ┆ u32         ┆ f64               ┆ f64                ┆ f64               │\n",
       "╞════════════════════╪═════════════╪═══════════════════╪════════════════════╪═══════════════════╡\n",
       "│ 25                 ┆ 1933        ┆ 0.0               ┆ 4.523895           ┆ 63.16             │\n",
       "│ 87                 ┆ 19155       ┆ 0.0               ┆ 4.239439           ┆ 833.2             │\n",
       "│ 69                 ┆ 548         ┆ 0.0               ┆ 5.367555           ┆ 28.3              │\n",
       "│ 188                ┆ 1190        ┆ 0.0               ┆ 5.240647           ┆ 32.2              │\n",
       "│ 10                 ┆ 1304        ┆ 0.0               ┆ 10.631028          ┆ 55.21             │\n",
       "└────────────────────┴─────────────┴───────────────────┴────────────────────┴───────────────────┘"
      ]
     },
     "execution_count": 8,
     "metadata": {},
     "output_type": "execute_result"
    }
   ],
   "source": [
    "location_id_summary_df = (\n",
    "    march_yellow_df.group_by(\n",
    "        \"pickup_location_id\"\n",
    "    ).agg(\n",
    "        pl.len().alias(\"count_trips\"),\n",
    "        pl.col(\"trip_distance\").min().name.suffix(\"_min\"),\n",
    "        pl.col(\"trip_distance\").mean().name.suffix(\"_mean\"),\n",
    "        pl.col(\"trip_distance\").max().name.suffix(\"_max\")\n",
    "    )\n",
    ")\n",
    "location_id_summary_df.head()"
   ]
  },
  {
   "cell_type": "code",
   "execution_count": 5,
   "id": "cba11743",
   "metadata": {},
   "outputs": [
    {
     "data": {
      "text/html": [
       "<div><style>\n",
       ".dataframe > thead > tr,\n",
       ".dataframe > tbody > tr {\n",
       "  text-align: right;\n",
       "  white-space: pre-wrap;\n",
       "}\n",
       "</style>\n",
       "<small>shape: (5, 4)</small><table border=\"1\" class=\"dataframe\"><thead><tr><th>location_id</th><th>borough</th><th>zone</th><th>service_zone</th></tr><tr><td>i32</td><td>str</td><td>str</td><td>str</td></tr></thead><tbody><tr><td>1</td><td>&quot;EWR&quot;</td><td>&quot;Newark Airport&quot;</td><td>&quot;EWR&quot;</td></tr><tr><td>2</td><td>&quot;Queens&quot;</td><td>&quot;Jamaica Bay&quot;</td><td>&quot;Boro Zone&quot;</td></tr><tr><td>3</td><td>&quot;Bronx&quot;</td><td>&quot;Allerton/Pelham Gardens&quot;</td><td>&quot;Boro Zone&quot;</td></tr><tr><td>4</td><td>&quot;Manhattan&quot;</td><td>&quot;Alphabet City&quot;</td><td>&quot;Yellow Zone&quot;</td></tr><tr><td>5</td><td>&quot;Staten Island&quot;</td><td>&quot;Arden Heights&quot;</td><td>&quot;Boro Zone&quot;</td></tr></tbody></table></div>"
      ],
      "text/plain": [
       "shape: (5, 4)\n",
       "┌─────────────┬───────────────┬─────────────────────────┬──────────────┐\n",
       "│ location_id ┆ borough       ┆ zone                    ┆ service_zone │\n",
       "│ ---         ┆ ---           ┆ ---                     ┆ ---          │\n",
       "│ i32         ┆ str           ┆ str                     ┆ str          │\n",
       "╞═════════════╪═══════════════╪═════════════════════════╪══════════════╡\n",
       "│ 1           ┆ EWR           ┆ Newark Airport          ┆ EWR          │\n",
       "│ 2           ┆ Queens        ┆ Jamaica Bay             ┆ Boro Zone    │\n",
       "│ 3           ┆ Bronx         ┆ Allerton/Pelham Gardens ┆ Boro Zone    │\n",
       "│ 4           ┆ Manhattan     ┆ Alphabet City           ┆ Yellow Zone  │\n",
       "│ 5           ┆ Staten Island ┆ Arden Heights           ┆ Boro Zone    │\n",
       "└─────────────┴───────────────┴─────────────────────────┴──────────────┘"
      ]
     },
     "execution_count": 5,
     "metadata": {},
     "output_type": "execute_result"
    }
   ],
   "source": [
    "column_rename_mapping_zones = {\n",
    "    \"LocationID\": \"location_id\",\n",
    "    \"Borough\": \"borough\",\n",
    "    \"Zone\": \"zone\",\n",
    "}\n",
    "zones_df = pl.read_parquet(\"./../data/taxi_zone_lookup.parquet\").rename(column_rename_mapping_zones)\n",
    "zones_df.head()"
   ]
  },
  {
   "cell_type": "code",
   "execution_count": 9,
   "id": "c9cd3082",
   "metadata": {},
   "outputs": [
    {
     "data": {
      "text/html": [
       "<div><style>\n",
       ".dataframe > thead > tr,\n",
       ".dataframe > tbody > tr {\n",
       "  text-align: right;\n",
       "  white-space: pre-wrap;\n",
       "}\n",
       "</style>\n",
       "<small>shape: (259, 8)</small><table border=\"1\" class=\"dataframe\"><thead><tr><th>pickup_location_id</th><th>count_trips</th><th>trip_distance_min</th><th>trip_distance_mean</th><th>trip_distance_max</th><th>borough</th><th>zone</th><th>service_zone</th></tr><tr><td>i32</td><td>u32</td><td>f64</td><td>f64</td><td>f64</td><td>str</td><td>str</td><td>str</td></tr></thead><tbody><tr><td>1</td><td>372</td><td>0.0</td><td>1.34578</td><td>35.75</td><td>&quot;EWR&quot;</td><td>&quot;Newark Airport&quot;</td><td>&quot;EWR&quot;</td></tr><tr><td>2</td><td>8</td><td>0.0</td><td>11.98</td><td>20.23</td><td>&quot;Queens&quot;</td><td>&quot;Jamaica Bay&quot;</td><td>&quot;Boro Zone&quot;</td></tr><tr><td>3</td><td>151</td><td>0.0</td><td>7.159073</td><td>35.1</td><td>&quot;Bronx&quot;</td><td>&quot;Allerton/Pelham Gardens&quot;</td><td>&quot;Boro Zone&quot;</td></tr><tr><td>4</td><td>7586</td><td>0.0</td><td>2.742518</td><td>37.6</td><td>&quot;Manhattan&quot;</td><td>&quot;Alphabet City&quot;</td><td>&quot;Yellow Zone&quot;</td></tr><tr><td>5</td><td>1</td><td>0.0</td><td>0.0</td><td>0.0</td><td>&quot;Staten Island&quot;</td><td>&quot;Arden Heights&quot;</td><td>&quot;Boro Zone&quot;</td></tr><tr><td>&hellip;</td><td>&hellip;</td><td>&hellip;</td><td>&hellip;</td><td>&hellip;</td><td>&hellip;</td><td>&hellip;</td><td>&hellip;</td></tr><tr><td>261</td><td>18849</td><td>0.0</td><td>4.178514</td><td>49.06</td><td>&quot;Manhattan&quot;</td><td>&quot;World Trade Center&quot;</td><td>&quot;Yellow Zone&quot;</td></tr><tr><td>262</td><td>48890</td><td>0.0</td><td>8.245881</td><td>176329.23</td><td>&quot;Manhattan&quot;</td><td>&quot;Yorkville East&quot;</td><td>&quot;Yellow Zone&quot;</td></tr><tr><td>263</td><td>68956</td><td>0.0</td><td>8.095303</td><td>176836.3</td><td>&quot;Manhattan&quot;</td><td>&quot;Yorkville West&quot;</td><td>&quot;Yellow Zone&quot;</td></tr><tr><td>264</td><td>11567</td><td>0.0</td><td>3.261509</td><td>56.2</td><td>&quot;Unknown&quot;</td><td>&quot;N/A&quot;</td><td>&quot;N/A&quot;</td></tr><tr><td>265</td><td>2081</td><td>0.0</td><td>8.877866</td><td>8917.7</td><td>&quot;N/A&quot;</td><td>&quot;Outside of NYC&quot;</td><td>&quot;N/A&quot;</td></tr></tbody></table></div>"
      ],
      "text/plain": [
       "shape: (259, 8)\n",
       "┌────────────┬────────────┬────────────┬───────────┬───────────┬───────────┬───────────┬───────────┐\n",
       "│ pickup_loc ┆ count_trip ┆ trip_dista ┆ trip_dist ┆ trip_dist ┆ borough   ┆ zone      ┆ service_z │\n",
       "│ ation_id   ┆ s          ┆ nce_min    ┆ ance_mean ┆ ance_max  ┆ ---       ┆ ---       ┆ one       │\n",
       "│ ---        ┆ ---        ┆ ---        ┆ ---       ┆ ---       ┆ str       ┆ str       ┆ ---       │\n",
       "│ i32        ┆ u32        ┆ f64        ┆ f64       ┆ f64       ┆           ┆           ┆ str       │\n",
       "╞════════════╪════════════╪════════════╪═══════════╪═══════════╪═══════════╪═══════════╪═══════════╡\n",
       "│ 1          ┆ 372        ┆ 0.0        ┆ 1.34578   ┆ 35.75     ┆ EWR       ┆ Newark    ┆ EWR       │\n",
       "│            ┆            ┆            ┆           ┆           ┆           ┆ Airport   ┆           │\n",
       "│ 2          ┆ 8          ┆ 0.0        ┆ 11.98     ┆ 20.23     ┆ Queens    ┆ Jamaica   ┆ Boro Zone │\n",
       "│            ┆            ┆            ┆           ┆           ┆           ┆ Bay       ┆           │\n",
       "│ 3          ┆ 151        ┆ 0.0        ┆ 7.159073  ┆ 35.1      ┆ Bronx     ┆ Allerton/ ┆ Boro Zone │\n",
       "│            ┆            ┆            ┆           ┆           ┆           ┆ Pelham    ┆           │\n",
       "│            ┆            ┆            ┆           ┆           ┆           ┆ Gardens   ┆           │\n",
       "│ 4          ┆ 7586       ┆ 0.0        ┆ 2.742518  ┆ 37.6      ┆ Manhattan ┆ Alphabet  ┆ Yellow    │\n",
       "│            ┆            ┆            ┆           ┆           ┆           ┆ City      ┆ Zone      │\n",
       "│ 5          ┆ 1          ┆ 0.0        ┆ 0.0       ┆ 0.0       ┆ Staten    ┆ Arden     ┆ Boro Zone │\n",
       "│            ┆            ┆            ┆           ┆           ┆ Island    ┆ Heights   ┆           │\n",
       "│ …          ┆ …          ┆ …          ┆ …         ┆ …         ┆ …         ┆ …         ┆ …         │\n",
       "│ 261        ┆ 18849      ┆ 0.0        ┆ 4.178514  ┆ 49.06     ┆ Manhattan ┆ World     ┆ Yellow    │\n",
       "│            ┆            ┆            ┆           ┆           ┆           ┆ Trade     ┆ Zone      │\n",
       "│            ┆            ┆            ┆           ┆           ┆           ┆ Center    ┆           │\n",
       "│ 262        ┆ 48890      ┆ 0.0        ┆ 8.245881  ┆ 176329.23 ┆ Manhattan ┆ Yorkville ┆ Yellow    │\n",
       "│            ┆            ┆            ┆           ┆           ┆           ┆ East      ┆ Zone      │\n",
       "│ 263        ┆ 68956      ┆ 0.0        ┆ 8.095303  ┆ 176836.3  ┆ Manhattan ┆ Yorkville ┆ Yellow    │\n",
       "│            ┆            ┆            ┆           ┆           ┆           ┆ West      ┆ Zone      │\n",
       "│ 264        ┆ 11567      ┆ 0.0        ┆ 3.261509  ┆ 56.2      ┆ Unknown   ┆ N/A       ┆ N/A       │\n",
       "│ 265        ┆ 2081       ┆ 0.0        ┆ 8.877866  ┆ 8917.7    ┆ N/A       ┆ Outside   ┆ N/A       │\n",
       "│            ┆            ┆            ┆           ┆           ┆           ┆ of NYC    ┆           │\n",
       "└────────────┴────────────┴────────────┴───────────┴───────────┴───────────┴───────────┴───────────┘"
      ]
     },
     "execution_count": 9,
     "metadata": {},
     "output_type": "execute_result"
    }
   ],
   "source": [
    "location_id_summary_df.join(\n",
    "    zones_df,\n",
    "    left_on=\"pickup_location_id\",\n",
    "    right_on=\"location_id\"\n",
    ")"
   ]
  },
  {
   "cell_type": "code",
   "execution_count": 11,
   "id": "d9f2fdef",
   "metadata": {},
   "outputs": [
    {
     "data": {
      "text/html": [
       "<div><style>\n",
       ".dataframe > thead > tr,\n",
       ".dataframe > tbody > tr {\n",
       "  text-align: right;\n",
       "  white-space: pre-wrap;\n",
       "}\n",
       "</style>\n",
       "<small>shape: (3_582_628, 8)</small><table border=\"1\" class=\"dataframe\"><thead><tr><th>tpep_pickup_datetime</th><th>pickup_location_id</th><th>dropoff_location_id</th><th>trip_distance</th><th>total_amount</th><th>borough</th><th>zone</th><th>service_zone</th></tr><tr><td>datetime[ns]</td><td>i32</td><td>i32</td><td>f64</td><td>f64</td><td>str</td><td>str</td><td>str</td></tr></thead><tbody><tr><td>2024-03-01 00:18:51</td><td>142</td><td>239</td><td>1.3</td><td>16.3</td><td>&quot;Manhattan&quot;</td><td>&quot;Lincoln Square East&quot;</td><td>&quot;Yellow Zone&quot;</td></tr><tr><td>2024-03-01 00:26:00</td><td>238</td><td>24</td><td>1.1</td><td>15.2</td><td>&quot;Manhattan&quot;</td><td>&quot;Upper West Side North&quot;</td><td>&quot;Yellow Zone&quot;</td></tr><tr><td>2024-03-01 00:09:22</td><td>263</td><td>75</td><td>0.86</td><td>10.4</td><td>&quot;Manhattan&quot;</td><td>&quot;Yorkville West&quot;</td><td>&quot;Yellow Zone&quot;</td></tr><tr><td>2024-03-01 00:33:45</td><td>164</td><td>162</td><td>0.82</td><td>14.19</td><td>&quot;Manhattan&quot;</td><td>&quot;Midtown South&quot;</td><td>&quot;Yellow Zone&quot;</td></tr><tr><td>2024-03-01 00:05:43</td><td>263</td><td>7</td><td>4.9</td><td>30.4</td><td>&quot;Manhattan&quot;</td><td>&quot;Yorkville West&quot;</td><td>&quot;Yellow Zone&quot;</td></tr><tr><td>&hellip;</td><td>&hellip;</td><td>&hellip;</td><td>&hellip;</td><td>&hellip;</td><td>&hellip;</td><td>&hellip;</td><td>&hellip;</td></tr><tr><td>2024-03-31 23:16:45</td><td>130</td><td>218</td><td>4.27</td><td>15.77</td><td>&quot;Queens&quot;</td><td>&quot;Jamaica&quot;</td><td>&quot;Boro Zone&quot;</td></tr><tr><td>2024-03-31 23:29:28</td><td>79</td><td>100</td><td>0.0</td><td>24.8</td><td>&quot;Manhattan&quot;</td><td>&quot;East Village&quot;</td><td>&quot;Yellow Zone&quot;</td></tr><tr><td>2024-03-31 23:15:00</td><td>63</td><td>181</td><td>6.44</td><td>31.5</td><td>&quot;Brooklyn&quot;</td><td>&quot;Cypress Hills&quot;</td><td>&quot;Boro Zone&quot;</td></tr><tr><td>2024-03-31 23:27:53</td><td>161</td><td>148</td><td>3.88</td><td>31.58</td><td>&quot;Manhattan&quot;</td><td>&quot;Midtown Center&quot;</td><td>&quot;Yellow Zone&quot;</td></tr><tr><td>2024-03-31 23:10:50</td><td>95</td><td>7</td><td>7.39</td><td>32.97</td><td>&quot;Queens&quot;</td><td>&quot;Forest Hills&quot;</td><td>&quot;Boro Zone&quot;</td></tr></tbody></table></div>"
      ],
      "text/plain": [
       "shape: (3_582_628, 8)\n",
       "┌────────────┬────────────┬────────────┬───────────┬───────────┬───────────┬───────────┬───────────┐\n",
       "│ tpep_picku ┆ pickup_loc ┆ dropoff_lo ┆ trip_dist ┆ total_amo ┆ borough   ┆ zone      ┆ service_z │\n",
       "│ p_datetime ┆ ation_id   ┆ cation_id  ┆ ance      ┆ unt       ┆ ---       ┆ ---       ┆ one       │\n",
       "│ ---        ┆ ---        ┆ ---        ┆ ---       ┆ ---       ┆ str       ┆ str       ┆ ---       │\n",
       "│ datetime[n ┆ i32        ┆ i32        ┆ f64       ┆ f64       ┆           ┆           ┆ str       │\n",
       "│ s]         ┆            ┆            ┆           ┆           ┆           ┆           ┆           │\n",
       "╞════════════╪════════════╪════════════╪═══════════╪═══════════╪═══════════╪═══════════╪═══════════╡\n",
       "│ 2024-03-01 ┆ 142        ┆ 239        ┆ 1.3       ┆ 16.3      ┆ Manhattan ┆ Lincoln   ┆ Yellow    │\n",
       "│ 00:18:51   ┆            ┆            ┆           ┆           ┆           ┆ Square    ┆ Zone      │\n",
       "│            ┆            ┆            ┆           ┆           ┆           ┆ East      ┆           │\n",
       "│ 2024-03-01 ┆ 238        ┆ 24         ┆ 1.1       ┆ 15.2      ┆ Manhattan ┆ Upper     ┆ Yellow    │\n",
       "│ 00:26:00   ┆            ┆            ┆           ┆           ┆           ┆ West Side ┆ Zone      │\n",
       "│            ┆            ┆            ┆           ┆           ┆           ┆ North     ┆           │\n",
       "│ 2024-03-01 ┆ 263        ┆ 75         ┆ 0.86      ┆ 10.4      ┆ Manhattan ┆ Yorkville ┆ Yellow    │\n",
       "│ 00:09:22   ┆            ┆            ┆           ┆           ┆           ┆ West      ┆ Zone      │\n",
       "│ 2024-03-01 ┆ 164        ┆ 162        ┆ 0.82      ┆ 14.19     ┆ Manhattan ┆ Midtown   ┆ Yellow    │\n",
       "│ 00:33:45   ┆            ┆            ┆           ┆           ┆           ┆ South     ┆ Zone      │\n",
       "│ 2024-03-01 ┆ 263        ┆ 7          ┆ 4.9       ┆ 30.4      ┆ Manhattan ┆ Yorkville ┆ Yellow    │\n",
       "│ 00:05:43   ┆            ┆            ┆           ┆           ┆           ┆ West      ┆ Zone      │\n",
       "│ …          ┆ …          ┆ …          ┆ …         ┆ …         ┆ …         ┆ …         ┆ …         │\n",
       "│ 2024-03-31 ┆ 130        ┆ 218        ┆ 4.27      ┆ 15.77     ┆ Queens    ┆ Jamaica   ┆ Boro Zone │\n",
       "│ 23:16:45   ┆            ┆            ┆           ┆           ┆           ┆           ┆           │\n",
       "│ 2024-03-31 ┆ 79         ┆ 100        ┆ 0.0       ┆ 24.8      ┆ Manhattan ┆ East      ┆ Yellow    │\n",
       "│ 23:29:28   ┆            ┆            ┆           ┆           ┆           ┆ Village   ┆ Zone      │\n",
       "│ 2024-03-31 ┆ 63         ┆ 181        ┆ 6.44      ┆ 31.5      ┆ Brooklyn  ┆ Cypress   ┆ Boro Zone │\n",
       "│ 23:15:00   ┆            ┆            ┆           ┆           ┆           ┆ Hills     ┆           │\n",
       "│ 2024-03-31 ┆ 161        ┆ 148        ┆ 3.88      ┆ 31.58     ┆ Manhattan ┆ Midtown   ┆ Yellow    │\n",
       "│ 23:27:53   ┆            ┆            ┆           ┆           ┆           ┆ Center    ┆ Zone      │\n",
       "│ 2024-03-31 ┆ 95         ┆ 7          ┆ 7.39      ┆ 32.97     ┆ Queens    ┆ Forest    ┆ Boro Zone │\n",
       "│ 23:10:50   ┆            ┆            ┆           ┆           ┆           ┆ Hills     ┆           │\n",
       "└────────────┴────────────┴────────────┴───────────┴───────────┴───────────┴───────────┴───────────┘"
      ]
     },
     "execution_count": 11,
     "metadata": {},
     "output_type": "execute_result"
    }
   ],
   "source": [
    "march_yellow_df.select(\n",
    "    \"tpep_pickup_datetime\",\n",
    "    \"pickup_location_id\",\n",
    "    \"dropoff_location_id\",\n",
    "    \"trip_distance\",\n",
    "    \"total_amount\"\n",
    ").join(\n",
    "    zones_df,\n",
    "    left_on=\"pickup_location_id\",\n",
    "    right_on=\"location_id\"\n",
    ")"
   ]
  },
  {
   "cell_type": "code",
   "execution_count": 12,
   "id": "4e59eec2",
   "metadata": {},
   "outputs": [
    {
     "data": {
      "text/html": [
       "<div><style>\n",
       ".dataframe > thead > tr,\n",
       ".dataframe > tbody > tr {\n",
       "  text-align: right;\n",
       "  white-space: pre-wrap;\n",
       "}\n",
       "</style>\n",
       "<small>shape: (3_582_628, 8)</small><table border=\"1\" class=\"dataframe\"><thead><tr><th>tpep_pickup_datetime</th><th>pickup_location_id</th><th>dropoff_location_id</th><th>trip_distance</th><th>total_amount</th><th>pickup_borough</th><th>pickup_zone</th><th>pickup_service_zone</th></tr><tr><td>datetime[ns]</td><td>i32</td><td>i32</td><td>f64</td><td>f64</td><td>str</td><td>str</td><td>str</td></tr></thead><tbody><tr><td>2024-03-01 00:18:51</td><td>142</td><td>239</td><td>1.3</td><td>16.3</td><td>&quot;Manhattan&quot;</td><td>&quot;Lincoln Square East&quot;</td><td>&quot;Yellow Zone&quot;</td></tr><tr><td>2024-03-01 00:26:00</td><td>238</td><td>24</td><td>1.1</td><td>15.2</td><td>&quot;Manhattan&quot;</td><td>&quot;Upper West Side North&quot;</td><td>&quot;Yellow Zone&quot;</td></tr><tr><td>2024-03-01 00:09:22</td><td>263</td><td>75</td><td>0.86</td><td>10.4</td><td>&quot;Manhattan&quot;</td><td>&quot;Yorkville West&quot;</td><td>&quot;Yellow Zone&quot;</td></tr><tr><td>2024-03-01 00:33:45</td><td>164</td><td>162</td><td>0.82</td><td>14.19</td><td>&quot;Manhattan&quot;</td><td>&quot;Midtown South&quot;</td><td>&quot;Yellow Zone&quot;</td></tr><tr><td>2024-03-01 00:05:43</td><td>263</td><td>7</td><td>4.9</td><td>30.4</td><td>&quot;Manhattan&quot;</td><td>&quot;Yorkville West&quot;</td><td>&quot;Yellow Zone&quot;</td></tr><tr><td>&hellip;</td><td>&hellip;</td><td>&hellip;</td><td>&hellip;</td><td>&hellip;</td><td>&hellip;</td><td>&hellip;</td><td>&hellip;</td></tr><tr><td>2024-03-31 23:16:45</td><td>130</td><td>218</td><td>4.27</td><td>15.77</td><td>&quot;Queens&quot;</td><td>&quot;Jamaica&quot;</td><td>&quot;Boro Zone&quot;</td></tr><tr><td>2024-03-31 23:29:28</td><td>79</td><td>100</td><td>0.0</td><td>24.8</td><td>&quot;Manhattan&quot;</td><td>&quot;East Village&quot;</td><td>&quot;Yellow Zone&quot;</td></tr><tr><td>2024-03-31 23:15:00</td><td>63</td><td>181</td><td>6.44</td><td>31.5</td><td>&quot;Brooklyn&quot;</td><td>&quot;Cypress Hills&quot;</td><td>&quot;Boro Zone&quot;</td></tr><tr><td>2024-03-31 23:27:53</td><td>161</td><td>148</td><td>3.88</td><td>31.58</td><td>&quot;Manhattan&quot;</td><td>&quot;Midtown Center&quot;</td><td>&quot;Yellow Zone&quot;</td></tr><tr><td>2024-03-31 23:10:50</td><td>95</td><td>7</td><td>7.39</td><td>32.97</td><td>&quot;Queens&quot;</td><td>&quot;Forest Hills&quot;</td><td>&quot;Boro Zone&quot;</td></tr></tbody></table></div>"
      ],
      "text/plain": [
       "shape: (3_582_628, 8)\n",
       "┌────────────┬────────────┬────────────┬───────────┬───────────┬───────────┬───────────┬───────────┐\n",
       "│ tpep_picku ┆ pickup_loc ┆ dropoff_lo ┆ trip_dist ┆ total_amo ┆ pickup_bo ┆ pickup_zo ┆ pickup_se │\n",
       "│ p_datetime ┆ ation_id   ┆ cation_id  ┆ ance      ┆ unt       ┆ rough     ┆ ne        ┆ rvice_zon │\n",
       "│ ---        ┆ ---        ┆ ---        ┆ ---       ┆ ---       ┆ ---       ┆ ---       ┆ e         │\n",
       "│ datetime[n ┆ i32        ┆ i32        ┆ f64       ┆ f64       ┆ str       ┆ str       ┆ ---       │\n",
       "│ s]         ┆            ┆            ┆           ┆           ┆           ┆           ┆ str       │\n",
       "╞════════════╪════════════╪════════════╪═══════════╪═══════════╪═══════════╪═══════════╪═══════════╡\n",
       "│ 2024-03-01 ┆ 142        ┆ 239        ┆ 1.3       ┆ 16.3      ┆ Manhattan ┆ Lincoln   ┆ Yellow    │\n",
       "│ 00:18:51   ┆            ┆            ┆           ┆           ┆           ┆ Square    ┆ Zone      │\n",
       "│            ┆            ┆            ┆           ┆           ┆           ┆ East      ┆           │\n",
       "│ 2024-03-01 ┆ 238        ┆ 24         ┆ 1.1       ┆ 15.2      ┆ Manhattan ┆ Upper     ┆ Yellow    │\n",
       "│ 00:26:00   ┆            ┆            ┆           ┆           ┆           ┆ West Side ┆ Zone      │\n",
       "│            ┆            ┆            ┆           ┆           ┆           ┆ North     ┆           │\n",
       "│ 2024-03-01 ┆ 263        ┆ 75         ┆ 0.86      ┆ 10.4      ┆ Manhattan ┆ Yorkville ┆ Yellow    │\n",
       "│ 00:09:22   ┆            ┆            ┆           ┆           ┆           ┆ West      ┆ Zone      │\n",
       "│ 2024-03-01 ┆ 164        ┆ 162        ┆ 0.82      ┆ 14.19     ┆ Manhattan ┆ Midtown   ┆ Yellow    │\n",
       "│ 00:33:45   ┆            ┆            ┆           ┆           ┆           ┆ South     ┆ Zone      │\n",
       "│ 2024-03-01 ┆ 263        ┆ 7          ┆ 4.9       ┆ 30.4      ┆ Manhattan ┆ Yorkville ┆ Yellow    │\n",
       "│ 00:05:43   ┆            ┆            ┆           ┆           ┆           ┆ West      ┆ Zone      │\n",
       "│ …          ┆ …          ┆ …          ┆ …         ┆ …         ┆ …         ┆ …         ┆ …         │\n",
       "│ 2024-03-31 ┆ 130        ┆ 218        ┆ 4.27      ┆ 15.77     ┆ Queens    ┆ Jamaica   ┆ Boro Zone │\n",
       "│ 23:16:45   ┆            ┆            ┆           ┆           ┆           ┆           ┆           │\n",
       "│ 2024-03-31 ┆ 79         ┆ 100        ┆ 0.0       ┆ 24.8      ┆ Manhattan ┆ East      ┆ Yellow    │\n",
       "│ 23:29:28   ┆            ┆            ┆           ┆           ┆           ┆ Village   ┆ Zone      │\n",
       "│ 2024-03-31 ┆ 63         ┆ 181        ┆ 6.44      ┆ 31.5      ┆ Brooklyn  ┆ Cypress   ┆ Boro Zone │\n",
       "│ 23:15:00   ┆            ┆            ┆           ┆           ┆           ┆ Hills     ┆           │\n",
       "│ 2024-03-31 ┆ 161        ┆ 148        ┆ 3.88      ┆ 31.58     ┆ Manhattan ┆ Midtown   ┆ Yellow    │\n",
       "│ 23:27:53   ┆            ┆            ┆           ┆           ┆           ┆ Center    ┆ Zone      │\n",
       "│ 2024-03-31 ┆ 95         ┆ 7          ┆ 7.39      ┆ 32.97     ┆ Queens    ┆ Forest    ┆ Boro Zone │\n",
       "│ 23:10:50   ┆            ┆            ┆           ┆           ┆           ┆ Hills     ┆           │\n",
       "└────────────┴────────────┴────────────┴───────────┴───────────┴───────────┴───────────┴───────────┘"
      ]
     },
     "execution_count": 12,
     "metadata": {},
     "output_type": "execute_result"
    }
   ],
   "source": [
    "zone_columns = [\n",
    "    \"borough\",\n",
    "    \"zone\",\n",
    "    \"service_zone\",\n",
    "]\n",
    "\n",
    "march_yellow_df.select(\n",
    "    \"tpep_pickup_datetime\",\n",
    "    \"pickup_location_id\",\n",
    "    \"dropoff_location_id\",\n",
    "    \"trip_distance\",\n",
    "    \"total_amount\"\n",
    ").join(\n",
    "    zones_df,\n",
    "    left_on=\"pickup_location_id\",\n",
    "    right_on=\"location_id\"\n",
    ").with_columns(\n",
    "    pl.col(zone_columns).name.prefix(\"pickup_\")\n",
    ").drop(zone_columns)"
   ]
  },
  {
   "cell_type": "code",
   "execution_count": null,
   "id": "f31fb2c8",
   "metadata": {},
   "outputs": [],
   "source": []
  }
 ],
 "metadata": {
  "kernelspec": {
   "display_name": ".venv",
   "language": "python",
   "name": "python3"
  },
  "language_info": {
   "codemirror_mode": {
    "name": "ipython",
    "version": 3
   },
   "file_extension": ".py",
   "mimetype": "text/x-python",
   "name": "python",
   "nbconvert_exporter": "python",
   "pygments_lexer": "ipython3",
   "version": "3.13.5"
  }
 },
 "nbformat": 4,
 "nbformat_minor": 5
}
