{
 "cells": [
  {
   "cell_type": "markdown",
   "id": "5f186c46",
   "metadata": {
    "vscode": {
     "languageId": "plaintext"
    }
   },
   "source": [
    "## Data Manupilation"
   ]
  },
  {
   "cell_type": "code",
   "execution_count": 2,
   "id": "ebaf6037",
   "metadata": {},
   "outputs": [],
   "source": [
    "import polars as pl"
   ]
  },
  {
   "cell_type": "code",
   "execution_count": 3,
   "id": "9419f55c",
   "metadata": {},
   "outputs": [],
   "source": [
    "column_rename_mapping = {\n",
    "    \"VendorID\": \"vendor_id\",\n",
    "    \"RatecodeID\": \"rate_code_id\",\n",
    "    \"PULocationID\": \"pickup_location_id\",\n",
    "    \"DOLocationID\": \"dropoff_location_id\",\n",
    "    \"payment_type\": \"payment_type\",\n",
    "}\n",
    "df = pl.read_parquet(\"./../data/yellow_tripdata_2024-03.parquet\").rename(\n",
    "    column_rename_mapping\n",
    ")"
   ]
  },
  {
   "cell_type": "code",
   "execution_count": 4,
   "id": "7e8387ca",
   "metadata": {},
   "outputs": [
    {
     "data": {
      "text/html": [
       "<div><style>\n",
       ".dataframe > thead > tr,\n",
       ".dataframe > tbody > tr {\n",
       "  text-align: right;\n",
       "  white-space: pre-wrap;\n",
       "}\n",
       "</style>\n",
       "<small>shape: (5, 19)</small><table border=\"1\" class=\"dataframe\"><thead><tr><th>vendor_id</th><th>tpep_pickup_datetime</th><th>tpep_dropoff_datetime</th><th>passenger_count</th><th>trip_distance</th><th>rate_code_id</th><th>store_and_fwd_flag</th><th>pickup_location_id</th><th>dropoff_location_id</th><th>payment_type</th><th>fare_amount</th><th>extra</th><th>mta_tax</th><th>tip_amount</th><th>tolls_amount</th><th>improvement_surcharge</th><th>total_amount</th><th>congestion_surcharge</th><th>Airport_fee</th></tr><tr><td>i32</td><td>datetime[ns]</td><td>datetime[ns]</td><td>i64</td><td>f64</td><td>i64</td><td>str</td><td>i32</td><td>i32</td><td>i64</td><td>f64</td><td>f64</td><td>f64</td><td>f64</td><td>f64</td><td>f64</td><td>f64</td><td>f64</td><td>f64</td></tr></thead><tbody><tr><td>1</td><td>2024-03-01 00:18:51</td><td>2024-03-01 00:23:45</td><td>0</td><td>1.3</td><td>1</td><td>&quot;N&quot;</td><td>142</td><td>239</td><td>1</td><td>8.6</td><td>3.5</td><td>0.5</td><td>2.7</td><td>0.0</td><td>1.0</td><td>16.3</td><td>2.5</td><td>0.0</td></tr><tr><td>1</td><td>2024-03-01 00:26:00</td><td>2024-03-01 00:29:06</td><td>0</td><td>1.1</td><td>1</td><td>&quot;N&quot;</td><td>238</td><td>24</td><td>1</td><td>7.2</td><td>3.5</td><td>0.5</td><td>3.0</td><td>0.0</td><td>1.0</td><td>15.2</td><td>2.5</td><td>0.0</td></tr><tr><td>2</td><td>2024-03-01 00:09:22</td><td>2024-03-01 00:15:24</td><td>1</td><td>0.86</td><td>1</td><td>&quot;N&quot;</td><td>263</td><td>75</td><td>2</td><td>7.9</td><td>1.0</td><td>0.5</td><td>0.0</td><td>0.0</td><td>1.0</td><td>10.4</td><td>0.0</td><td>0.0</td></tr><tr><td>2</td><td>2024-03-01 00:33:45</td><td>2024-03-01 00:39:34</td><td>1</td><td>0.82</td><td>1</td><td>&quot;N&quot;</td><td>164</td><td>162</td><td>1</td><td>7.9</td><td>1.0</td><td>0.5</td><td>1.29</td><td>0.0</td><td>1.0</td><td>14.19</td><td>2.5</td><td>0.0</td></tr><tr><td>1</td><td>2024-03-01 00:05:43</td><td>2024-03-01 00:26:22</td><td>0</td><td>4.9</td><td>1</td><td>&quot;N&quot;</td><td>263</td><td>7</td><td>2</td><td>25.4</td><td>3.5</td><td>0.5</td><td>0.0</td><td>0.0</td><td>1.0</td><td>30.4</td><td>2.5</td><td>0.0</td></tr></tbody></table></div>"
      ],
      "text/plain": [
       "shape: (5, 19)\n",
       "┌───────────┬───────────┬───────────┬───────────┬───┬───────────┬───────────┬───────────┬──────────┐\n",
       "│ vendor_id ┆ tpep_pick ┆ tpep_drop ┆ passenger ┆ … ┆ improveme ┆ total_amo ┆ congestio ┆ Airport_ │\n",
       "│ ---       ┆ up_dateti ┆ off_datet ┆ _count    ┆   ┆ nt_surcha ┆ unt       ┆ n_surchar ┆ fee      │\n",
       "│ i32       ┆ me        ┆ ime       ┆ ---       ┆   ┆ rge       ┆ ---       ┆ ge        ┆ ---      │\n",
       "│           ┆ ---       ┆ ---       ┆ i64       ┆   ┆ ---       ┆ f64       ┆ ---       ┆ f64      │\n",
       "│           ┆ datetime[ ┆ datetime[ ┆           ┆   ┆ f64       ┆           ┆ f64       ┆          │\n",
       "│           ┆ ns]       ┆ ns]       ┆           ┆   ┆           ┆           ┆           ┆          │\n",
       "╞═══════════╪═══════════╪═══════════╪═══════════╪═══╪═══════════╪═══════════╪═══════════╪══════════╡\n",
       "│ 1         ┆ 2024-03-0 ┆ 2024-03-0 ┆ 0         ┆ … ┆ 1.0       ┆ 16.3      ┆ 2.5       ┆ 0.0      │\n",
       "│           ┆ 1         ┆ 1         ┆           ┆   ┆           ┆           ┆           ┆          │\n",
       "│           ┆ 00:18:51  ┆ 00:23:45  ┆           ┆   ┆           ┆           ┆           ┆          │\n",
       "│ 1         ┆ 2024-03-0 ┆ 2024-03-0 ┆ 0         ┆ … ┆ 1.0       ┆ 15.2      ┆ 2.5       ┆ 0.0      │\n",
       "│           ┆ 1         ┆ 1         ┆           ┆   ┆           ┆           ┆           ┆          │\n",
       "│           ┆ 00:26:00  ┆ 00:29:06  ┆           ┆   ┆           ┆           ┆           ┆          │\n",
       "│ 2         ┆ 2024-03-0 ┆ 2024-03-0 ┆ 1         ┆ … ┆ 1.0       ┆ 10.4      ┆ 0.0       ┆ 0.0      │\n",
       "│           ┆ 1         ┆ 1         ┆           ┆   ┆           ┆           ┆           ┆          │\n",
       "│           ┆ 00:09:22  ┆ 00:15:24  ┆           ┆   ┆           ┆           ┆           ┆          │\n",
       "│ 2         ┆ 2024-03-0 ┆ 2024-03-0 ┆ 1         ┆ … ┆ 1.0       ┆ 14.19     ┆ 2.5       ┆ 0.0      │\n",
       "│           ┆ 1         ┆ 1         ┆           ┆   ┆           ┆           ┆           ┆          │\n",
       "│           ┆ 00:33:45  ┆ 00:39:34  ┆           ┆   ┆           ┆           ┆           ┆          │\n",
       "│ 1         ┆ 2024-03-0 ┆ 2024-03-0 ┆ 0         ┆ … ┆ 1.0       ┆ 30.4      ┆ 2.5       ┆ 0.0      │\n",
       "│           ┆ 1         ┆ 1         ┆           ┆   ┆           ┆           ┆           ┆          │\n",
       "│           ┆ 00:05:43  ┆ 00:26:22  ┆           ┆   ┆           ┆           ┆           ┆          │\n",
       "└───────────┴───────────┴───────────┴───────────┴───┴───────────┴───────────┴───────────┴──────────┘"
      ]
     },
     "execution_count": 4,
     "metadata": {},
     "output_type": "execute_result"
    }
   ],
   "source": [
    "df.head()"
   ]
  },
  {
   "cell_type": "code",
   "execution_count": 5,
   "id": "98d6507c",
   "metadata": {},
   "outputs": [
    {
     "data": {
      "text/html": [
       "<div><style>\n",
       ".dataframe > thead > tr,\n",
       ".dataframe > tbody > tr {\n",
       "  text-align: right;\n",
       "  white-space: pre-wrap;\n",
       "}\n",
       "</style>\n",
       "<small>shape: (259, 6)</small><table border=\"1\" class=\"dataframe\"><thead><tr><th>pickup_location_id</th><th>rows</th><th>passenger_count_max</th><th>trip_distance_min</th><th>trip_distance_mean</th><th>trip_distance_max</th></tr><tr><td>i32</td><td>u32</td><td>i64</td><td>f64</td><td>f64</td><td>f64</td></tr></thead><tbody><tr><td>161</td><td>163269</td><td>6</td><td>0.0</td><td>2.692728</td><td>51066.77</td></tr><tr><td>132</td><td>157706</td><td>9</td><td>0.0</td><td>15.76677</td><td>9211.95</td></tr><tr><td>237</td><td>155631</td><td>6</td><td>0.0</td><td>2.096025</td><td>44866.77</td></tr><tr><td>236</td><td>146044</td><td>6</td><td>0.0</td><td>3.481146</td><td>109619.96</td></tr><tr><td>162</td><td>123805</td><td>8</td><td>0.0</td><td>3.030781</td><td>57408.32</td></tr><tr><td>&hellip;</td><td>&hellip;</td><td>&hellip;</td><td>&hellip;</td><td>&hellip;</td><td>&hellip;</td></tr><tr><td>199</td><td>2</td><td>3</td><td>9.27</td><td>11.075</td><td>12.88</td></tr><tr><td>84</td><td>1</td><td>null</td><td>20.11</td><td>20.11</td><td>20.11</td></tr><tr><td>156</td><td>1</td><td>null</td><td>14.17</td><td>14.17</td><td>14.17</td></tr><tr><td>109</td><td>1</td><td>4</td><td>0.0</td><td>0.0</td><td>0.0</td></tr><tr><td>5</td><td>1</td><td>1</td><td>0.0</td><td>0.0</td><td>0.0</td></tr></tbody></table></div>"
      ],
      "text/plain": [
       "shape: (259, 6)\n",
       "┌─────────────────┬────────┬─────────────────┬─────────────────┬─────────────────┬─────────────────┐\n",
       "│ pickup_location ┆ rows   ┆ passenger_count ┆ trip_distance_m ┆ trip_distance_m ┆ trip_distance_m │\n",
       "│ _id             ┆ ---    ┆ _max            ┆ in              ┆ ean             ┆ ax              │\n",
       "│ ---             ┆ u32    ┆ ---             ┆ ---             ┆ ---             ┆ ---             │\n",
       "│ i32             ┆        ┆ i64             ┆ f64             ┆ f64             ┆ f64             │\n",
       "╞═════════════════╪════════╪═════════════════╪═════════════════╪═════════════════╪═════════════════╡\n",
       "│ 161             ┆ 163269 ┆ 6               ┆ 0.0             ┆ 2.692728        ┆ 51066.77        │\n",
       "│ 132             ┆ 157706 ┆ 9               ┆ 0.0             ┆ 15.76677        ┆ 9211.95         │\n",
       "│ 237             ┆ 155631 ┆ 6               ┆ 0.0             ┆ 2.096025        ┆ 44866.77        │\n",
       "│ 236             ┆ 146044 ┆ 6               ┆ 0.0             ┆ 3.481146        ┆ 109619.96       │\n",
       "│ 162             ┆ 123805 ┆ 8               ┆ 0.0             ┆ 3.030781        ┆ 57408.32        │\n",
       "│ …               ┆ …      ┆ …               ┆ …               ┆ …               ┆ …               │\n",
       "│ 199             ┆ 2      ┆ 3               ┆ 9.27            ┆ 11.075          ┆ 12.88           │\n",
       "│ 84              ┆ 1      ┆ null            ┆ 20.11           ┆ 20.11           ┆ 20.11           │\n",
       "│ 156             ┆ 1      ┆ null            ┆ 14.17           ┆ 14.17           ┆ 14.17           │\n",
       "│ 109             ┆ 1      ┆ 4               ┆ 0.0             ┆ 0.0             ┆ 0.0             │\n",
       "│ 5               ┆ 1      ┆ 1               ┆ 0.0             ┆ 0.0             ┆ 0.0             │\n",
       "└─────────────────┴────────┴─────────────────┴─────────────────┴─────────────────┴─────────────────┘"
      ]
     },
     "execution_count": 5,
     "metadata": {},
     "output_type": "execute_result"
    }
   ],
   "source": [
    "df.group_by(\"pickup_location_id\").agg(\n",
    "    pl.len().alias(\"rows\"),\n",
    "    pl.col(\"passenger_count\").max().name.suffix(\"_max\"),\n",
    "    pl.col(\"trip_distance\").min().name.suffix(\"_min\"),\n",
    "    pl.col(\"trip_distance\").mean().name.suffix(\"_mean\"),\n",
    "    pl.col(\"trip_distance\").max().name.suffix(\"_max\"),\n",
    ").sort(pl.col(\"rows\"), descending=True)"
   ]
  },
  {
   "cell_type": "code",
   "execution_count": 6,
   "id": "197c83ed",
   "metadata": {},
   "outputs": [
    {
     "data": {
      "text/html": [
       "<div><style>\n",
       ".dataframe > thead > tr,\n",
       ".dataframe > tbody > tr {\n",
       "  text-align: right;\n",
       "  white-space: pre-wrap;\n",
       "}\n",
       "</style>\n",
       "<small>shape: (2, 6)</small><table border=\"1\" class=\"dataframe\"><thead><tr><th>same_location</th><th>count_trips</th><th>passenger_count_max</th><th>trip_distance_min</th><th>trip_distance_mean</th><th>trip_distance_max</th></tr><tr><td>bool</td><td>u32</td><td>i64</td><td>f64</td><td>f64</td><td>f64</td></tr></thead><tbody><tr><td>false</td><td>3401337</td><td>9</td><td>0.0</td><td>4.705378</td><td>176836.3</td></tr><tr><td>true</td><td>181291</td><td>9</td><td>0.0</td><td>0.990839</td><td>47635.92</td></tr></tbody></table></div>"
      ],
      "text/plain": [
       "shape: (2, 6)\n",
       "┌───────────────┬─────────────┬─────────────────┬────────────────┬────────────────┬────────────────┐\n",
       "│ same_location ┆ count_trips ┆ passenger_count ┆ trip_distance_ ┆ trip_distance_ ┆ trip_distance_ │\n",
       "│ ---           ┆ ---         ┆ _max            ┆ min            ┆ mean           ┆ max            │\n",
       "│ bool          ┆ u32         ┆ ---             ┆ ---            ┆ ---            ┆ ---            │\n",
       "│               ┆             ┆ i64             ┆ f64            ┆ f64            ┆ f64            │\n",
       "╞═══════════════╪═════════════╪═════════════════╪════════════════╪════════════════╪════════════════╡\n",
       "│ false         ┆ 3401337     ┆ 9               ┆ 0.0            ┆ 4.705378       ┆ 176836.3       │\n",
       "│ true          ┆ 181291      ┆ 9               ┆ 0.0            ┆ 0.990839       ┆ 47635.92       │\n",
       "└───────────────┴─────────────┴─────────────────┴────────────────┴────────────────┴────────────────┘"
      ]
     },
     "execution_count": 6,
     "metadata": {},
     "output_type": "execute_result"
    }
   ],
   "source": [
    "df.group_by(\n",
    "    pl.col(\"pickup_location_id\")\n",
    "    .eq(pl.col(\"dropoff_location_id\"))\n",
    "    .alias(\"same_location\")\n",
    ").agg(\n",
    "    pl.len().alias(\"count_trips\"),\n",
    "    pl.col(\"passenger_count\").max().name.suffix(\"_max\"),\n",
    "    pl.col(\"trip_distance\").min().name.suffix(\"_min\"),\n",
    "    pl.col(\"trip_distance\").mean().name.suffix(\"_mean\"),\n",
    "    pl.col(\"trip_distance\").max().name.suffix(\"_max\"),\n",
    ").sort(\"count_trips\", descending=True)"
   ]
  },
  {
   "cell_type": "markdown",
   "id": "84a0700d",
   "metadata": {},
   "source": [
    "## Window Functions / .over method"
   ]
  },
  {
   "cell_type": "code",
   "execution_count": 7,
   "id": "9852dcd0",
   "metadata": {},
   "outputs": [
    {
     "data": {
      "text/html": [
       "<div><style>\n",
       ".dataframe > thead > tr,\n",
       ".dataframe > tbody > tr {\n",
       "  text-align: right;\n",
       "  white-space: pre-wrap;\n",
       "}\n",
       "</style>\n",
       "<small>shape: (3_582_628, 3)</small><table border=\"1\" class=\"dataframe\"><thead><tr><th>trip_distance</th><th>tip_amount</th><th>had_tip</th></tr><tr><td>f64</td><td>f64</td><td>bool</td></tr></thead><tbody><tr><td>176836.3</td><td>5.46</td><td>true</td></tr><tr><td>176744.79</td><td>19.28</td><td>true</td></tr><tr><td>176329.23</td><td>0.0</td><td>false</td></tr><tr><td>138097.21</td><td>14.14</td><td>true</td></tr><tr><td>136660.1</td><td>0.0</td><td>false</td></tr><tr><td>&hellip;</td><td>&hellip;</td><td>&hellip;</td></tr><tr><td>0.0</td><td>0.0</td><td>false</td></tr><tr><td>0.0</td><td>0.0</td><td>false</td></tr><tr><td>0.0</td><td>0.0</td><td>false</td></tr><tr><td>0.0</td><td>0.0</td><td>false</td></tr><tr><td>0.0</td><td>3.8</td><td>true</td></tr></tbody></table></div>"
      ],
      "text/plain": [
       "shape: (3_582_628, 3)\n",
       "┌───────────────┬────────────┬─────────┐\n",
       "│ trip_distance ┆ tip_amount ┆ had_tip │\n",
       "│ ---           ┆ ---        ┆ ---     │\n",
       "│ f64           ┆ f64        ┆ bool    │\n",
       "╞═══════════════╪════════════╪═════════╡\n",
       "│ 176836.3      ┆ 5.46       ┆ true    │\n",
       "│ 176744.79     ┆ 19.28      ┆ true    │\n",
       "│ 176329.23     ┆ 0.0        ┆ false   │\n",
       "│ 138097.21     ┆ 14.14      ┆ true    │\n",
       "│ 136660.1      ┆ 0.0        ┆ false   │\n",
       "│ …             ┆ …          ┆ …       │\n",
       "│ 0.0           ┆ 0.0        ┆ false   │\n",
       "│ 0.0           ┆ 0.0        ┆ false   │\n",
       "│ 0.0           ┆ 0.0        ┆ false   │\n",
       "│ 0.0           ┆ 0.0        ┆ false   │\n",
       "│ 0.0           ┆ 3.8        ┆ true    │\n",
       "└───────────────┴────────────┴─────────┘"
      ]
     },
     "execution_count": 7,
     "metadata": {},
     "output_type": "execute_result"
    }
   ],
   "source": [
    "df.with_columns(pl.col(\"tip_amount\").gt(0).alias(\"had_tip\")).sort(\n",
    "    pl.col(\"trip_distance\"), descending=True\n",
    ").select(\n",
    "    \"trip_distance\",\n",
    "    \"tip_amount\",\n",
    "    \"had_tip\",\n",
    ")"
   ]
  },
  {
   "cell_type": "code",
   "execution_count": 8,
   "id": "a1c1e2be",
   "metadata": {},
   "outputs": [
    {
     "data": {
      "text/html": [
       "<div><style>\n",
       ".dataframe > thead > tr,\n",
       ".dataframe > tbody > tr {\n",
       "  text-align: right;\n",
       "  white-space: pre-wrap;\n",
       "}\n",
       "</style>\n",
       "<small>shape: (3_582_628, 4)</small><table border=\"1\" class=\"dataframe\"><thead><tr><th>trip_distance</th><th>tip_amount</th><th>had_tip</th><th>trip_distance_rank</th></tr><tr><td>f64</td><td>f64</td><td>bool</td><td>f64</td></tr></thead><tbody><tr><td>176836.3</td><td>5.46</td><td>true</td><td>1.0</td></tr><tr><td>176744.79</td><td>19.28</td><td>true</td><td>2.0</td></tr><tr><td>176329.23</td><td>0.0</td><td>false</td><td>3.0</td></tr><tr><td>138097.21</td><td>14.14</td><td>true</td><td>4.0</td></tr><tr><td>136660.1</td><td>0.0</td><td>false</td><td>5.0</td></tr><tr><td>&hellip;</td><td>&hellip;</td><td>&hellip;</td><td>&hellip;</td></tr><tr><td>0.0</td><td>0.0</td><td>false</td><td>3539044.5</td></tr><tr><td>0.0</td><td>0.0</td><td>false</td><td>3539044.5</td></tr><tr><td>0.0</td><td>0.0</td><td>false</td><td>3539044.5</td></tr><tr><td>0.0</td><td>0.0</td><td>false</td><td>3539044.5</td></tr><tr><td>0.0</td><td>3.8</td><td>true</td><td>3539044.5</td></tr></tbody></table></div>"
      ],
      "text/plain": [
       "shape: (3_582_628, 4)\n",
       "┌───────────────┬────────────┬─────────┬────────────────────┐\n",
       "│ trip_distance ┆ tip_amount ┆ had_tip ┆ trip_distance_rank │\n",
       "│ ---           ┆ ---        ┆ ---     ┆ ---                │\n",
       "│ f64           ┆ f64        ┆ bool    ┆ f64                │\n",
       "╞═══════════════╪════════════╪═════════╪════════════════════╡\n",
       "│ 176836.3      ┆ 5.46       ┆ true    ┆ 1.0                │\n",
       "│ 176744.79     ┆ 19.28      ┆ true    ┆ 2.0                │\n",
       "│ 176329.23     ┆ 0.0        ┆ false   ┆ 3.0                │\n",
       "│ 138097.21     ┆ 14.14      ┆ true    ┆ 4.0                │\n",
       "│ 136660.1      ┆ 0.0        ┆ false   ┆ 5.0                │\n",
       "│ …             ┆ …          ┆ …       ┆ …                  │\n",
       "│ 0.0           ┆ 0.0        ┆ false   ┆ 3539044.5          │\n",
       "│ 0.0           ┆ 0.0        ┆ false   ┆ 3539044.5          │\n",
       "│ 0.0           ┆ 0.0        ┆ false   ┆ 3539044.5          │\n",
       "│ 0.0           ┆ 0.0        ┆ false   ┆ 3539044.5          │\n",
       "│ 0.0           ┆ 3.8        ┆ true    ┆ 3539044.5          │\n",
       "└───────────────┴────────────┴─────────┴────────────────────┘"
      ]
     },
     "execution_count": 8,
     "metadata": {},
     "output_type": "execute_result"
    }
   ],
   "source": [
    "df.with_columns(pl.col(\"tip_amount\").gt(0).alias(\"had_tip\")).sort(\n",
    "    pl.col(\"trip_distance\"), descending=True\n",
    ").select(\n",
    "    \"trip_distance\",\n",
    "    \"tip_amount\",\n",
    "    \"had_tip\",\n",
    "    pl.col(\"trip_distance\").rank(descending=True).name.suffix(\"_rank\"),\n",
    ")"
   ]
  },
  {
   "cell_type": "code",
   "execution_count": null,
   "id": "3b242bc0",
   "metadata": {},
   "outputs": [
    {
     "data": {
      "text/html": [
       "<div><style>\n",
       ".dataframe > thead > tr,\n",
       ".dataframe > tbody > tr {\n",
       "  text-align: right;\n",
       "  white-space: pre-wrap;\n",
       "}\n",
       "</style>\n",
       "<small>shape: (3_582_628, 4)</small><table border=\"1\" class=\"dataframe\"><thead><tr><th>trip_distance</th><th>tip_amount</th><th>had_tip</th><th>trip_distance_rank_with_had_tip</th></tr><tr><td>f64</td><td>f64</td><td>bool</td><td>f64</td></tr></thead><tbody><tr><td>176836.3</td><td>5.46</td><td>true</td><td>1.0</td></tr><tr><td>176744.79</td><td>19.28</td><td>true</td><td>2.0</td></tr><tr><td>176329.23</td><td>0.0</td><td>false</td><td>1.0</td></tr><tr><td>138097.21</td><td>14.14</td><td>true</td><td>3.0</td></tr><tr><td>136660.1</td><td>0.0</td><td>false</td><td>2.0</td></tr><tr><td>&hellip;</td><td>&hellip;</td><td>&hellip;</td><td>&hellip;</td></tr><tr><td>0.0</td><td>0.0</td><td>false</td><td>1.032188e6</td></tr><tr><td>0.0</td><td>0.0</td><td>false</td><td>1.032188e6</td></tr><tr><td>0.0</td><td>0.0</td><td>false</td><td>1.032188e6</td></tr><tr><td>0.0</td><td>0.0</td><td>false</td><td>1.032188e6</td></tr><tr><td>0.0</td><td>3.8</td><td>true</td><td>2.506857e6</td></tr></tbody></table></div>"
      ],
      "text/plain": [
       "shape: (3_582_628, 4)\n",
       "┌───────────────┬────────────┬─────────┬─────────────────────────────────┐\n",
       "│ trip_distance ┆ tip_amount ┆ had_tip ┆ trip_distance_rank_with_had_ti… │\n",
       "│ ---           ┆ ---        ┆ ---     ┆ ---                             │\n",
       "│ f64           ┆ f64        ┆ bool    ┆ f64                             │\n",
       "╞═══════════════╪════════════╪═════════╪═════════════════════════════════╡\n",
       "│ 176836.3      ┆ 5.46       ┆ true    ┆ 1.0                             │\n",
       "│ 176744.79     ┆ 19.28      ┆ true    ┆ 2.0                             │\n",
       "│ 176329.23     ┆ 0.0        ┆ false   ┆ 1.0                             │\n",
       "│ 138097.21     ┆ 14.14      ┆ true    ┆ 3.0                             │\n",
       "│ 136660.1      ┆ 0.0        ┆ false   ┆ 2.0                             │\n",
       "│ …             ┆ …          ┆ …       ┆ …                               │\n",
       "│ 0.0           ┆ 0.0        ┆ false   ┆ 1.032188e6                      │\n",
       "│ 0.0           ┆ 0.0        ┆ false   ┆ 1.032188e6                      │\n",
       "│ 0.0           ┆ 0.0        ┆ false   ┆ 1.032188e6                      │\n",
       "│ 0.0           ┆ 0.0        ┆ false   ┆ 1.032188e6                      │\n",
       "│ 0.0           ┆ 3.8        ┆ true    ┆ 2.506857e6                      │\n",
       "└───────────────┴────────────┴─────────┴─────────────────────────────────┘"
      ]
     },
     "execution_count": 11,
     "metadata": {},
     "output_type": "execute_result"
    }
   ],
   "source": [
    "df.with_columns(pl.col(\"tip_amount\").gt(0).alias(\"had_tip\")).sort(\n",
    "    pl.col(\"trip_distance\"), descending=True\n",
    ").select(\n",
    "    \"trip_distance\",\n",
    "    \"tip_amount\",\n",
    "    \"had_tip\",\n",
    "    pl.col(\"trip_distance\")\n",
    "    .rank(descending=True)\n",
    "    .over(\"had_tip\")\n",
    "    .name.suffix(\"_rank_with_had_tip\"),\n",
    ")"
   ]
  },
  {
   "cell_type": "code",
   "execution_count": null,
   "id": "9fa71320",
   "metadata": {},
   "outputs": [],
   "source": []
  }
 ],
 "metadata": {
  "kernelspec": {
   "display_name": ".venv",
   "language": "python",
   "name": "python3"
  },
  "language_info": {
   "codemirror_mode": {
    "name": "ipython",
    "version": 3
   },
   "file_extension": ".py",
   "mimetype": "text/x-python",
   "name": "python",
   "nbconvert_exporter": "python",
   "pygments_lexer": "ipython3",
   "version": "3.13.4"
  }
 },
 "nbformat": 4,
 "nbformat_minor": 5
}
